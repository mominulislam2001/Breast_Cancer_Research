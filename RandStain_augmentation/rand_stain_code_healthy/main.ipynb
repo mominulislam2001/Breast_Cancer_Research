{
 "cells": [
  {
   "cell_type": "code",
   "execution_count": 1,
   "metadata": {},
   "outputs": [],
   "source": [
    "# https://youtu.be/SuDtHqtC5OE\n",
    "\"\"\"\n",
    "\n",
    "Random Stain Normalization and Augmentation (RandStainNA) is a hybrid framework \n",
    "designed to fuse stain normalization and stain augmentation to generate more realistic stain variations. \n",
    "It incorporates randomness to SN by automatically sorting out a random virtual template from\n",
    "pre-estimated stain style distributions. More specifically, from the perception of\n",
    "SN’s viewpoint, stain styles ‘visible’ to the deep neural network are enriched\n",
    "in the training stage. Meanwhile, from the perception from the SA’s viewpoint,\n",
    "RandStainNA imposes a restriction on the distortion range and consequently,\n",
    "only a constrained practicable range is ‘visible’ to CNN. T\n",
    "\n",
    "https://github.com/yiqings/RandStainNA\n",
    "\n",
    "https://arxiv.org/abs/2206.12694\n",
    "\n",
    "This python file calls methods from the randstainna file. \n",
    "Also, you need to provide a yaml file with approrite stats. that act as the template\n",
    "image for color transformation. The yaml file can be generated using the \n",
    "datasets_statistics_V1.0.py file in the preprocess-statistics directory.\n",
    "\n",
    "\"\"\"\n",
    "\n",
    "import os\n",
    "from randstainna import RandStainNA\n",
    "import cv2\n",
    "\n",
    "\n",
    "# Setting: is_train = False\n",
    "randstainna = RandStainNA(\n",
    "    yaml_file = './preprocess-statistics/output/random_images.yaml',\n",
    "    std_hyper = 0.0,\n",
    "    distribution = 'normal',\n",
    "    probability = 1.0,\n",
    "    is_train = False\n",
    ")\n",
    "\n",
    "dir_path = 'data/original/'\n",
    "img_list = os.listdir(dir_path)\n",
    "\n",
    "\n",
    "save_dir_path = 'data/augmented'\n",
    "if not os.path.exists(save_dir_path):\n",
    "    os.mkdir(save_dir_path)\n",
    "\n",
    "for img_path in img_list:\n",
    "    img = randstainna(cv2.imread(dir_path+img_path))\n",
    "    save_img_path = save_dir_path + '/{}'.format(img_path.split('/')[-1])\n",
    "    cv2.imwrite(save_img_path,img)\n",
    "\n",
    "\n"
   ]
  },
  {
   "cell_type": "code",
   "execution_count": null,
   "metadata": {},
   "outputs": [],
   "source": []
  }
 ],
 "metadata": {
  "kernelspec": {
   "display_name": "Python 3",
   "language": "python",
   "name": "python3"
  },
  "language_info": {
   "codemirror_mode": {
    "name": "ipython",
    "version": 3
   },
   "file_extension": ".py",
   "mimetype": "text/x-python",
   "name": "python",
   "nbconvert_exporter": "python",
   "pygments_lexer": "ipython3",
   "version": "3.10.7"
  }
 },
 "nbformat": 4,
 "nbformat_minor": 2
}
