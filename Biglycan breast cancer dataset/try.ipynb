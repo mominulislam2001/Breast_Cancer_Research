{
 "cells": [
  {
   "cell_type": "code",
   "execution_count": 2,
   "metadata": {},
   "outputs": [
    {
     "name": "stdout",
     "output_type": "stream",
     "text": [
      "Defaulting to user installation because normal site-packages is not writeable\n",
      "Collecting cv\n",
      "  Downloading cv-1.0.0-py3-none-any.whl.metadata (3.6 kB)\n",
      "Downloading cv-1.0.0-py3-none-any.whl (7.3 kB)\n",
      "Installing collected packages: cv\n",
      "Successfully installed cv-1.0.0\n",
      "Note: you may need to restart the kernel to use updated packages.\n"
     ]
    }
   ],
   "source": [
    "\n",
    "pip install cv"
   ]
  },
  {
   "cell_type": "code",
   "execution_count": 3,
   "metadata": {},
   "outputs": [
    {
     "name": "stdout",
     "output_type": "stream",
     "text": [
      "Defaulting to user installation because normal site-packages is not writeable\n",
      "Collecting opencv-python\n",
      "  Downloading opencv_python-4.10.0.82-cp37-abi3-win_amd64.whl.metadata (20 kB)\n",
      "Requirement already satisfied: numpy>=1.21.2 in c:\\program files\\python310\\lib\\site-packages (from opencv-python) (1.26.0)\n",
      "Downloading opencv_python-4.10.0.82-cp37-abi3-win_amd64.whl (38.8 MB)\n",
      "   ---------------------------------------- 38.8/38.8 MB 1.6 MB/s eta 0:00:00\n",
      "Installing collected packages: opencv-python\n",
      "Successfully installed opencv-python-4.10.0.82\n",
      "Note: you may need to restart the kernel to use updated packages.\n"
     ]
    }
   ],
   "source": [
    "pip install opencv-python"
   ]
  },
  {
   "cell_type": "code",
   "execution_count": 5,
   "metadata": {},
   "outputs": [
    {
     "name": "stdout",
     "output_type": "stream",
     "text": [
      "Defaulting to user installation because normal site-packages is not writeable\n",
      "Requirement already satisfied: xgboost in c:\\users\\user\\appdata\\roaming\\python\\python310\\site-packages (2.0.3)\n",
      "Requirement already satisfied: numpy in c:\\program files\\python310\\lib\\site-packages (from xgboost) (1.26.0)\n",
      "Requirement already satisfied: scipy in c:\\users\\user\\appdata\\roaming\\python\\python310\\site-packages (from xgboost) (1.12.0)\n",
      "Note: you may need to restart the kernel to use updated packages.\n"
     ]
    }
   ],
   "source": [
    "pip install xgboost"
   ]
  },
  {
   "cell_type": "code",
   "execution_count": 8,
   "metadata": {},
   "outputs": [
    {
     "name": "stdout",
     "output_type": "stream",
     "text": [
      "Random Forest:\n",
      "Accuracy: 0.8823529411764706\n",
      "              precision    recall  f1-score   support\n",
      "\n",
      "           0       0.83      0.83      0.83        23\n",
      "           1       0.91      0.91      0.91        45\n",
      "\n",
      "    accuracy                           0.88        68\n",
      "   macro avg       0.87      0.87      0.87        68\n",
      "weighted avg       0.88      0.88      0.88        68\n",
      "\n",
      "\n",
      "XGBoost:\n",
      "Accuracy: 0.9264705882352942\n",
      "              precision    recall  f1-score   support\n",
      "\n",
      "           0       0.88      0.91      0.89        23\n",
      "           1       0.95      0.93      0.94        45\n",
      "\n",
      "    accuracy                           0.93        68\n",
      "   macro avg       0.91      0.92      0.92        68\n",
      "weighted avg       0.93      0.93      0.93        68\n",
      "\n"
     ]
    }
   ],
   "source": [
    "import os\n",
    "import numpy as np\n",
    "from sklearn.model_selection import train_test_split\n",
    "from sklearn.preprocessing import StandardScaler\n",
    "from sklearn.ensemble import RandomForestClassifier\n",
    "import xgboost as xgb\n",
    "from sklearn.metrics import accuracy_score, classification_report\n",
    "import cv2\n",
    "# Define image paths (replace with your actual paths)\n",
    "cancer_path = \"./CANCER\"\n",
    "healthy_path = \"./HEALTHY\"\n",
    "\n",
    "# Function to load and preprocess images\n",
    "def load_and_preprocess_images(img_path):\n",
    "    images = []\n",
    "    labels = []\n",
    "    for filename in os.listdir(img_path):\n",
    "        img = cv2.imread(os.path.join(img_path, filename), cv2.IMREAD_GRAYSCALE)  # Load as grayscale\n",
    "        if img is not None:  # Handle potential loading errors\n",
    "            img = cv2.resize(img, (128, 128))  # Resize to consistent size\n",
    "            images.append(img.flatten())\n",
    "            labels.append(1 if \"CANCER\" in img_path else 0)  # Label based on folder name\n",
    "    return np.array(images), np.array(labels)\n",
    "\n",
    "# Load and preprocess images\n",
    "cancer_images, cancer_labels = load_and_preprocess_images(cancer_path)\n",
    "healthy_images, healthy_labels = load_and_preprocess_images(healthy_path)\n",
    "\n",
    "# Combine data and labels\n",
    "images = np.concatenate((cancer_images, healthy_images))\n",
    "labels = np.concatenate((cancer_labels, healthy_labels))\n",
    "\n",
    "# Split data into training and testing sets\n",
    "X_train, X_test, y_train, y_test = train_test_split(images, labels, test_size=0.2, random_state=42)  # Set random state for reproducibility\n",
    "\n",
    "# Standardize features (optional, but often recommended)\n",
    "scaler = StandardScaler()\n",
    "X_train = scaler.fit_transform(X_train)\n",
    "X_test = scaler.transform(X_test)\n",
    "\n",
    "# Train Random Forest classifier\n",
    "rf_model = RandomForestClassifier(n_estimators=100, random_state=42)  # Adjust n_estimators as needed\n",
    "rf_model.fit(X_train, y_train)\n",
    "\n",
    "# Train XGBoost classifier\n",
    "xgb_model = xgb.XGBClassifier(n_estimators=100, random_state=42)  # Adjust n_estimators as needed\n",
    "xgb_model.fit(X_train, y_train)\n",
    "\n",
    "# Make predictions on test set\n",
    "rf_predictions = rf_model.predict(X_test)\n",
    "xgb_predictions = xgb_model.predict(X_test)\n",
    "\n",
    "# Evaluate performance using accuracy and classification report\n",
    "print(\"Random Forest:\")\n",
    "print(f\"Accuracy: {accuracy_score(y_test, rf_predictions)}\")\n",
    "print(classification_report(y_test, rf_predictions))\n",
    "\n",
    "print(\"\\nXGBoost:\")\n",
    "print(f\"Accuracy: {accuracy_score(y_test, xgb_predictions)}\")\n",
    "print(classification_report(y_test, xgb_predictions))\n"
   ]
  },
  {
   "cell_type": "code",
   "execution_count": null,
   "metadata": {},
   "outputs": [],
   "source": [
    "models_ensemble = {}"
   ]
  },
  {
   "cell_type": "code",
   "execution_count": null,
   "metadata": {},
   "outputs": [],
   "source": []
  }
 ],
 "metadata": {
  "kernelspec": {
   "display_name": "Python 3",
   "language": "python",
   "name": "python3"
  },
  "language_info": {
   "codemirror_mode": {
    "name": "ipython",
    "version": 3
   },
   "file_extension": ".py",
   "mimetype": "text/x-python",
   "name": "python",
   "nbconvert_exporter": "python",
   "pygments_lexer": "ipython3",
   "version": "3.10.7"
  }
 },
 "nbformat": 4,
 "nbformat_minor": 2
}
